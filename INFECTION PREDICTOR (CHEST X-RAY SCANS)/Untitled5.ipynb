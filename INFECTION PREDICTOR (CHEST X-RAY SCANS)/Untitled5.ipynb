{
  "nbformat": 4,
  "nbformat_minor": 0,
  "metadata": {
    "colab": {
      "name": "Untitled5.ipynb",
      "provenance": [],
      "private_outputs": true,
      "collapsed_sections": []
    },
    "kernelspec": {
      "name": "python3",
      "display_name": "Python 3"
    }
  },
  "cells": [
    {
      "cell_type": "code",
      "metadata": {
        "id": "Pt7f06wRBP9E",
        "colab_type": "code",
        "colab": {}
      },
      "source": [
        "import os\n",
        "from flask import Flask, flash, request, redirect, url_for,render_template\n",
        "from werkzeug.utils import secure_filename\n",
        "import tensorflow.keras\n",
        "from PIL import Image, ImageOps\n",
        "import numpy as np\n",
        "\n",
        "UPLOAD_FOLDER = r'C:\\\\Users\\\\HP\\\\Desktop'\n",
        "ALLOWED_EXTENSIONS = {'png', 'jpg', 'jpeg'}\n",
        "SECRET_KEY = 'the random string'\n",
        "\n",
        "app = Flask(__name__)\n",
        "app.config['UPLOAD_FOLDER'] = UPLOAD_FOLDER\n",
        "app.config['SECRET_KEY'] = 'jkbneiuyawponGH'\n",
        "\n",
        "def allowed_file(filename):\n",
        "    return '.' in filename and \\\n",
        "           filename.rsplit('.', 1)[1].lower() in ALLOWED_EXTENSIONS\n",
        "from flask import send_from_directory\n",
        "\n",
        "@app.route('/uploads/<filename>')\n",
        "def uploaded_file(filename):\n",
        "    return send_from_directory(app.config['UPLOAD_FOLDER'],\n",
        "                               filename)\n",
        "\n",
        "@app.route('/', methods=['GET', 'POST'])\n",
        "def upload_file():\n",
        "    if request.method == 'POST':\n",
        "        # check if the post request has the file part\n",
        "        if 'file' not in request.files:\n",
        "            flash('No file part')\n",
        "            return redirect(request.url)\n",
        "        file = request.files['file']\n",
        "        # if user does not select file, browser also\n",
        "        # submit an empty part without filename\n",
        "        if file.filename == '':\n",
        "            flash('No selected file')\n",
        "            return redirect(request.url)\n",
        "        if file and allowed_file(file.filename):\n",
        "            filename = secure_filename(file.filename)\n",
        "            file.save(os.path.join(app.config['UPLOAD_FOLDER'], filename))\n",
        "\n",
        "            return redirect(url_for('uploaded_file',\n",
        "                                    filename=filename))\n",
        "    return render_template('index.html')\n",
        "    # return '''\n",
        "    # <!doctype html>\n",
        "    # <title>Upload new File</title>\n",
        "    # <h1>Upload new File</h1>\n",
        "    # <form method=post enctype=multipart/form-data>\n",
        "    #   <input type=file name=file>\n",
        "    #   <input type=submit value=Upload>\n",
        "    # </form>\n",
        "    # '''\n",
        "    \n",
        "if __name__ == '__main__':\n",
        "    app.run(debug=True)\n",
        "    "
      ],
      "execution_count": 0,
      "outputs": []
    }
  ]
}